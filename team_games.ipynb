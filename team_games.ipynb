{
 "cells": [
  {
   "cell_type": "code",
   "execution_count": 1,
   "id": "4b87748e-8ba0-4937-ad22-5896605a6457",
   "metadata": {},
   "outputs": [],
   "source": [
    "import pandas as pd\n",
    "import matplotlib.pyplot as plt\n",
    "from nba_api.stats.static import teams\n",
    "from nba_api.stats.endpoints import leaguegamefinder\n",
    "from nba_api.stats.library.parameters import SeasonType\n",
    "from nba_api.stats.endpoints import playbyplay, winprobabilitypbp"
   ]
  },
  {
   "cell_type": "code",
   "execution_count": null,
   "id": "94f89409-a2c2-400c-bc23-d5f8f1d22a09",
   "metadata": {},
   "outputs": [],
   "source": [
    "class TeamFinder():\n",
    "    def __init__(self, team_abbrev):\n",
    "        self.team = team_abbrev\n",
    "        self.games = pd.DataFrame()\n",
    "    \n",
    "    def get_games(self, season):\n",
    "        gamefinder = leaguegamefinder.LeagueGameFinder(team_id_nullable=self.team,\n",
    "                                                       season_nullable=season,\n",
    "                                                       season_type_nullable=SeasonType.regular)\n",
    "        df = pd.DataFrame(gamefinder.get_normalized_dict()['LeagueGameFinderResults'])\n",
    "        self.games = pd.concat([self.games, df])\n",
    "        return self.games\n",
    "    \n",
    "    def game_data(self, n)\n",
    "        "
   ]
  }
 ],
 "metadata": {
  "kernelspec": {
   "display_name": "Python 3 (ipykernel)",
   "language": "python",
   "name": "python3"
  },
  "language_info": {
   "codemirror_mode": {
    "name": "ipython",
    "version": 3
   },
   "file_extension": ".py",
   "mimetype": "text/x-python",
   "name": "python",
   "nbconvert_exporter": "python",
   "pygments_lexer": "ipython3",
   "version": "3.8.12"
  }
 },
 "nbformat": 4,
 "nbformat_minor": 5
}
